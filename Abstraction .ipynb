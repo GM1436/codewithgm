{
 "cells": [
  {
   "cell_type": "code",
   "execution_count": null,
   "id": "dc02b2d0",
   "metadata": {},
   "outputs": [],
   "source": [
    "abstraction is the process of handling complexity of hinding the unecessory information & incress the effiancy from the end user.\n",
    "\n",
    "ex=mobile phone call conectivity."
   ]
  },
  {
   "cell_type": "code",
   "execution_count": null,
   "id": "5615dd25",
   "metadata": {},
   "outputs": [],
   "source": []
  },
  {
   "cell_type": "code",
   "execution_count": 1,
   "id": "e0de48c1",
   "metadata": {},
   "outputs": [
    {
     "ename": "IndentationError",
     "evalue": "expected an indented block (1592796999.py, line 23)",
     "output_type": "error",
     "traceback": [
      "\u001b[1;36m  Input \u001b[1;32mIn [1]\u001b[1;36m\u001b[0m\n\u001b[1;33m    \u001b[0m\n\u001b[1;37m    ^\u001b[0m\n\u001b[1;31mIndentationError\u001b[0m\u001b[1;31m:\u001b[0m expected an indented block\n"
     ]
    }
   ],
   "source": [
    "class polygon():\n",
    "    @abstractmethod\n",
    "    def side(): pass\n",
    "    @abstractmethod\n",
    "    def display(): pass\n",
    "    \n",
    "class triangle(polygon):\n",
    "    def side(self):\n",
    "        print(\"traingle has 3 sides\")\n",
    "        \n",
    "    def display(self):\n",
    "        print(\"traingle display\")\n",
    "        \n",
    "class square(polygon):\n",
    "    def side(self):\n",
    "        print(\"square has 4 sides\")\n",
    "        \n",
    "    def display(self):\n",
    "        print(\"square display\")\n",
    "        \n",
    "class pentagon(polygon):\n",
    "    def side(self):\n",
    "    "
   ]
  },
  {
   "cell_type": "code",
   "execution_count": 8,
   "id": "d56233e0",
   "metadata": {},
   "outputs": [
    {
     "ename": "TypeError",
     "evalue": "display() takes 0 positional arguments but 1 was given",
     "output_type": "error",
     "traceback": [
      "\u001b[1;31m---------------------------------------------------------------------------\u001b[0m",
      "\u001b[1;31mTypeError\u001b[0m                                 Traceback (most recent call last)",
      "Input \u001b[1;32mIn [8]\u001b[0m, in \u001b[0;36m<cell line: 23>\u001b[1;34m()\u001b[0m\n\u001b[0;32m     20\u001b[0m             \u001b[38;5;28mprint\u001b[39m(\u001b[38;5;124m'\u001b[39m\u001b[38;5;124mthis is a hexagon\u001b[39m\u001b[38;5;124m'\u001b[39m)\n\u001b[0;32m     22\u001b[0m obj \u001b[38;5;241m=\u001b[39m shape()\n\u001b[1;32m---> 23\u001b[0m \u001b[43mobj\u001b[49m\u001b[38;5;241;43m.\u001b[39;49m\u001b[43mdisplay\u001b[49m\u001b[43m(\u001b[49m\u001b[43m)\u001b[49m\n",
      "\u001b[1;31mTypeError\u001b[0m: display() takes 0 positional arguments but 1 was given"
     ]
    }
   ],
   "source": [
    "from abc import ABC,abstractmethod\n",
    "class polygon():\n",
    "    @abstractmethod\n",
    "    def side(): pass\n",
    "    @abstractmethod\n",
    "    def display(): pass\n",
    "    \n",
    "class shape(polygon):\n",
    "    def side():\n",
    "        s = int(input('sides'))\n",
    "        \n",
    "    def display():\n",
    "        if s == 3:\n",
    "            print('this is a triangle')\n",
    "        if s == 4:\n",
    "            print('this is a quad')\n",
    "        if s == 5:\n",
    "            print('this is a pentagon')\n",
    "        if s == 6:\n",
    "            print('this is a hexagon')\n",
    "            \n",
    "obj = shape()\n",
    "obj.display()"
   ]
  },
  {
   "cell_type": "code",
   "execution_count": null,
   "id": "8cbcd199",
   "metadata": {},
   "outputs": [],
   "source": []
  }
 ],
 "metadata": {
  "kernelspec": {
   "display_name": "Python 3 (ipykernel)",
   "language": "python",
   "name": "python3"
  },
  "language_info": {
   "codemirror_mode": {
    "name": "ipython",
    "version": 3
   },
   "file_extension": ".py",
   "mimetype": "text/x-python",
   "name": "python",
   "nbconvert_exporter": "python",
   "pygments_lexer": "ipython3",
   "version": "3.9.12"
  }
 },
 "nbformat": 4,
 "nbformat_minor": 5
}
